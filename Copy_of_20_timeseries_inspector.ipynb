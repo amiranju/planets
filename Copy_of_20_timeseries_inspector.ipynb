{
  "cells": [
    {
      "cell_type": "markdown",
      "metadata": {
        "id": "view-in-github",
        "colab_type": "text"
      },
      "source": [
        "<a href=\"https://colab.research.google.com/github/amiranju/planets/blob/master/Copy_of_20_timeseries_inspector.ipynb\" target=\"_parent\"><img src=\"https://colab.research.google.com/assets/colab-badge.svg\" alt=\"Open In Colab\"/></a>"
      ]
    },
    {
      "cell_type": "markdown",
      "id": "0",
      "metadata": {
        "id": "0"
      },
      "source": [
        "<a href=\"https://githubtocolab.com/gee-community/geemap/blob/master/docs/notebooks/20_timeseries_inspector.ipynb\" target=\"_parent\"><img src=\"https://colab.research.google.com/assets/colab-badge.svg\" alt=\"Open in Colab\"/></a>\n",
        "\n",
        "Uncomment the following line to install [geemap](https://geemap.org) if needed."
      ]
    },
    {
      "cell_type": "code",
      "execution_count": null,
      "id": "1",
      "metadata": {
        "id": "1"
      },
      "outputs": [],
      "source": [
        "# !pip install geemap"
      ]
    },
    {
      "cell_type": "code",
      "execution_count": null,
      "id": "2",
      "metadata": {
        "id": "2"
      },
      "outputs": [],
      "source": [
        "import ee\n",
        "import geemap"
      ]
    },
    {
      "cell_type": "code",
      "execution_count": null,
      "id": "3",
      "metadata": {
        "id": "3"
      },
      "outputs": [],
      "source": [
        "geemap.show_youtube(\"0CZ7Aj8hCyo\")"
      ]
    },
    {
      "cell_type": "markdown",
      "id": "4",
      "metadata": {
        "id": "4"
      },
      "source": [
        "## Update the geemap package\n",
        "\n",
        "If you run into errors with this notebook, please uncomment the line below to update the [geemap](https://github.com/gee-community/geemap#installation) package to the latest version from GitHub.\n",
        "Restart the Kernel (Menu -> Kernel -> Restart) to take effect."
      ]
    },
    {
      "cell_type": "code",
      "execution_count": null,
      "id": "5",
      "metadata": {
        "id": "5"
      },
      "outputs": [],
      "source": [
        "# geemap.update_package()"
      ]
    },
    {
      "cell_type": "markdown",
      "id": "6",
      "metadata": {
        "id": "6"
      },
      "source": [
        "## NAIP: National Agriculture Imagery Program\n",
        "\n",
        "The National Agriculture Imagery Program (NAIP) acquires aerial imagery during the agricultural growing seasons in the continental U.S.\n",
        "\n",
        "NAIP projects are contracted each year based upon available funding and the FSA imagery acquisition cycle. Beginning in 2003, NAIP was acquired on a 5-year cycle. 2008 was a transition year, and a three-year cycle began in 2009.\n",
        "\n",
        "NAIP imagery is acquired at a **one-meter** ground sample distance (GSD) with a horizontal accuracy that matches within six meters of photo-identifiable ground control points, which are used during image inspection.\n",
        "\n",
        "Older images were collected using 3 bands (Red, Green, and Blue: RGB), but newer imagery is usually collected with an additional near-infrared band (RGBN).\n",
        "\n",
        "More information about NAIP imagery can be found on [Earth Engine Data Catalog](https://developers.google.com/earth-engine/datasets/catalog/USDA_NAIP_DOQQ)."
      ]
    },
    {
      "cell_type": "markdown",
      "id": "7",
      "metadata": {
        "id": "7"
      },
      "source": [
        "## Create annual composite of NAIP imagery\n",
        "\n",
        "Select 4-band (RGBN) NAIP imagery."
      ]
    },
    {
      "cell_type": "code",
      "execution_count": null,
      "id": "8",
      "metadata": {
        "id": "8"
      },
      "outputs": [],
      "source": [
        "Map = geemap.Map()"
      ]
    },
    {
      "cell_type": "code",
      "execution_count": null,
      "id": "9",
      "metadata": {
        "id": "9"
      },
      "outputs": [],
      "source": [
        "naip_ts = geemap.naip_timeseries(start_year=2009, end_year=2018)"
      ]
    },
    {
      "cell_type": "markdown",
      "id": "10",
      "metadata": {
        "id": "10"
      },
      "source": [
        "Create a list of layer names to be shown under the dropdown list."
      ]
    },
    {
      "cell_type": "code",
      "execution_count": null,
      "id": "11",
      "metadata": {
        "id": "11"
      },
      "outputs": [],
      "source": [
        "layer_names = [\"NAIP \" + str(year) for year in range(2009, 2019)]\n",
        "print(layer_names)"
      ]
    },
    {
      "cell_type": "markdown",
      "id": "12",
      "metadata": {
        "id": "12"
      },
      "source": [
        "Set visualization parameters."
      ]
    },
    {
      "cell_type": "code",
      "execution_count": null,
      "id": "13",
      "metadata": {
        "id": "13"
      },
      "outputs": [],
      "source": [
        "naip_vis = {\"bands\": [\"N\", \"R\", \"G\"]}"
      ]
    },
    {
      "cell_type": "markdown",
      "id": "14",
      "metadata": {
        "id": "14"
      },
      "source": [
        "Create a split-panel map for visualizing NAIP imagery"
      ]
    },
    {
      "cell_type": "code",
      "execution_count": null,
      "id": "15",
      "metadata": {
        "id": "15"
      },
      "outputs": [],
      "source": [
        "Map = geemap.Map()\n",
        "Map.ts_inspector(\n",
        "    left_ts=naip_ts,\n",
        "    right_ts=naip_ts,\n",
        "    left_names=layer_names,\n",
        "    right_names=layer_names,\n",
        "    left_vis=naip_vis,\n",
        "    right_vis=naip_vis,\n",
        ")\n",
        "Map"
      ]
    },
    {
      "cell_type": "markdown",
      "id": "16",
      "metadata": {
        "id": "16"
      },
      "source": [
        "## Create annual composite of Landsat imagery\n",
        "\n",
        "Use the drawing tools to create an ROI"
      ]
    },
    {
      "cell_type": "code",
      "execution_count": null,
      "id": "17",
      "metadata": {
        "id": "17"
      },
      "outputs": [],
      "source": [
        "import ee\n",
        "import geemap"
      ]
    },
    {
      "cell_type": "code",
      "execution_count": null,
      "id": "18",
      "metadata": {
        "id": "18"
      },
      "outputs": [],
      "source": [
        "Map = geemap.Map()\n",
        "Map"
      ]
    },
    {
      "cell_type": "code",
      "execution_count": null,
      "id": "19",
      "metadata": {
        "id": "19"
      },
      "outputs": [],
      "source": [
        "region = Map.draw_last_feature"
      ]
    },
    {
      "cell_type": "code",
      "execution_count": null,
      "id": "20",
      "metadata": {
        "id": "20"
      },
      "outputs": [],
      "source": [
        "if region is not None:\n",
        "    roi = region.geometry()\n",
        "else:\n",
        "    roi = ee.Geometry.Polygon(\n",
        "        [\n",
        "            [\n",
        "                [-115.897448, 35.640766],\n",
        "                [-115.897448, 36.603608],\n",
        "                [-113.784915, 36.603608],\n",
        "                [-113.784915, 35.640766],\n",
        "                [-115.897448, 35.640766],\n",
        "            ]\n",
        "        ],\n",
        "        None,\n",
        "        False,\n",
        "    )"
      ]
    },
    {
      "cell_type": "code",
      "execution_count": null,
      "id": "21",
      "metadata": {
        "id": "21"
      },
      "outputs": [],
      "source": [
        "print(roi.getInfo())"
      ]
    },
    {
      "cell_type": "code",
      "execution_count": null,
      "id": "22",
      "metadata": {
        "id": "22"
      },
      "outputs": [],
      "source": [
        "landsat_ts = geemap.landsat_timeseries(\n",
        "    roi=roi, start_year=1984, end_year=2019, start_date=\"01-01\", end_date=\"12-31\"\n",
        ")"
      ]
    },
    {
      "cell_type": "code",
      "execution_count": null,
      "id": "23",
      "metadata": {
        "id": "23"
      },
      "outputs": [],
      "source": [
        "layer_names = [\"Landsat \" + str(year) for year in range(1984, 2020)]\n",
        "print(layer_names)"
      ]
    },
    {
      "cell_type": "code",
      "execution_count": null,
      "id": "24",
      "metadata": {
        "id": "24"
      },
      "outputs": [],
      "source": [
        "landsat_vis = {\n",
        "    \"min\": 0,\n",
        "    \"max\": 0.3,\n",
        "    \"gamma\": [1, 1, 1],\n",
        "    \"bands\": [\"NIR\", \"Red\", \"Green\"],\n",
        "}"
      ]
    },
    {
      "cell_type": "code",
      "execution_count": null,
      "id": "25",
      "metadata": {
        "id": "25"
      },
      "outputs": [],
      "source": [
        "Map = geemap.Map()\n",
        "Map.ts_inspector(\n",
        "    left_ts=landsat_ts,\n",
        "    right_ts=landsat_ts,\n",
        "    left_names=layer_names,\n",
        "    right_names=layer_names,\n",
        "    left_vis=landsat_vis,\n",
        "    right_vis=landsat_vis,\n",
        ")\n",
        "Map.centerObject(roi, zoom=8)\n",
        "Map"
      ]
    },
    {
      "cell_type": "markdown",
      "id": "26",
      "metadata": {
        "id": "26"
      },
      "source": [
        "## Compare Landsat imagery and National Land Cover Database (NLCD)\n",
        "\n",
        "More information about NLCD can be found at the [Earth Engine Data Catalog](https://developers.google.com/earth-engine/datasets/catalog/USGS_NLCD)."
      ]
    },
    {
      "cell_type": "code",
      "execution_count": null,
      "id": "27",
      "metadata": {
        "id": "27"
      },
      "outputs": [],
      "source": [
        "import ee\n",
        "import geemap"
      ]
    },
    {
      "cell_type": "code",
      "execution_count": null,
      "id": "28",
      "metadata": {
        "id": "28"
      },
      "outputs": [],
      "source": [
        "Map = geemap.Map()\n",
        "Map"
      ]
    },
    {
      "cell_type": "code",
      "execution_count": null,
      "id": "29",
      "metadata": {
        "id": "29"
      },
      "outputs": [],
      "source": [
        "NLCD = ee.ImageCollection(\"USGS/NLCD\")"
      ]
    },
    {
      "cell_type": "code",
      "execution_count": null,
      "id": "30",
      "metadata": {
        "id": "30"
      },
      "outputs": [],
      "source": [
        "NLCD_layers = NLCD.aggregate_array(\"system:id\").getInfo()\n",
        "print(NLCD_layers)"
      ]
    },
    {
      "cell_type": "code",
      "execution_count": null,
      "id": "31",
      "metadata": {
        "id": "31"
      },
      "outputs": [],
      "source": [
        "NLCD2001 = ee.Image(\"USGS/NLCD/NLCD2001\").select(\"landcover\")\n",
        "NLCD2006 = ee.Image(\"USGS/NLCD/NLCD2006\").select(\"landcover\")\n",
        "NLCD2011 = ee.Image(\"USGS/NLCD/NLCD2011\").select(\"landcover\")\n",
        "NLCD2016 = ee.Image(\"USGS/NLCD/NLCD2016\").select(\"landcover\")"
      ]
    },
    {
      "cell_type": "code",
      "execution_count": null,
      "id": "32",
      "metadata": {
        "id": "32"
      },
      "outputs": [],
      "source": [
        "NLCD = ee.ImageCollection([NLCD2001, NLCD2006, NLCD2011, NLCD2016])"
      ]
    },
    {
      "cell_type": "code",
      "execution_count": null,
      "id": "33",
      "metadata": {
        "id": "33"
      },
      "outputs": [],
      "source": [
        "NLCD_layer_names = [\"NLCD \" + str(year) for year in range(2001, 2017, 5)]\n",
        "print(NLCD_layer_names)"
      ]
    },
    {
      "cell_type": "code",
      "execution_count": null,
      "id": "34",
      "metadata": {
        "id": "34"
      },
      "outputs": [],
      "source": [
        "roi = ee.Geometry.Polygon(\n",
        "    [\n",
        "        [\n",
        "            [-115.897448, 35.640766],\n",
        "            [-115.897448, 36.603608],\n",
        "            [-113.784915, 36.603608],\n",
        "            [-113.784915, 35.640766],\n",
        "            [-115.897448, 35.640766],\n",
        "        ]\n",
        "    ],\n",
        "    None,\n",
        "    False,\n",
        ")"
      ]
    },
    {
      "cell_type": "code",
      "execution_count": null,
      "id": "35",
      "metadata": {
        "id": "35"
      },
      "outputs": [],
      "source": [
        "landsat_ts = geemap.landsat_timeseries(\n",
        "    roi=roi, start_year=2001, end_year=2016, start_date=\"01-01\", end_date=\"12-31\"\n",
        ")"
      ]
    },
    {
      "cell_type": "code",
      "execution_count": null,
      "id": "36",
      "metadata": {
        "id": "36"
      },
      "outputs": [],
      "source": [
        "landsat_layer_names = [\"Landsat \" + str(year) for year in range(2001, 2017)]"
      ]
    },
    {
      "cell_type": "code",
      "execution_count": null,
      "id": "37",
      "metadata": {
        "id": "37"
      },
      "outputs": [],
      "source": [
        "landsat_vis = {\n",
        "    \"min\": 0,\n",
        "    \"max\": 0.3,\n",
        "    \"gamma\": [1, 1, 1],\n",
        "    \"bands\": [\"NIR\", \"Red\", \"Green\"],\n",
        "}\n",
        "\n",
        "nlcd_vis = {\"bands\": [\"landcover\"]}"
      ]
    },
    {
      "cell_type": "code",
      "execution_count": null,
      "id": "38",
      "metadata": {
        "id": "38"
      },
      "outputs": [],
      "source": [
        "Map = geemap.Map()\n",
        "Map.ts_inspector(\n",
        "    left_ts=landsat_ts,\n",
        "    right_ts=NLCD,\n",
        "    left_names=landsat_layer_names,\n",
        "    right_names=NLCD_layer_names,\n",
        "    left_vis=landsat_vis,\n",
        "    right_vis=nlcd_vis,\n",
        ")\n",
        "Map.centerObject(roi, zoom=8)\n",
        "Map"
      ]
    }
  ],
  "metadata": {
    "kernelspec": {
      "display_name": "Python 3",
      "language": "python",
      "name": "python3"
    },
    "colab": {
      "provenance": [],
      "toc_visible": true,
      "include_colab_link": true
    }
  },
  "nbformat": 4,
  "nbformat_minor": 5
}